{
 "cells": [
  {
   "cell_type": "code",
   "execution_count": 3,
   "metadata": {},
   "outputs": [],
   "source": [
    "import os\n",
    "import subprocess"
   ]
  },
  {
   "cell_type": "code",
   "execution_count": null,
   "metadata": {},
   "outputs": [],
   "source": [
    "# 将pcap包以五元组转化为会话\n",
    "\n",
    "def split_cap2flow(pcap_file, flow_dir):\n",
    "    # 检查输入文件是否存在\n",
    "    if not os.path.exists(pcap_file):\n",
    "        print(f\"Error: {pcap_file} not found.\")\n",
    "        return -1\n",
    "\n",
    "    # 确保输出目录存在\n",
    "    os.makedirs(flow_dir, exist_ok=True)\n",
    "\n",
    "    cmd = f\"D:/Users/ZitaGo/Downloads/SplitCap.exe -r {pcap_file} -s session -o {flow_dir}\"\n",
    "    print(f'Running command: {cmd}')\n",
    "    try:\n",
    "        # 执行命令并捕获输出\n",
    "        result = subprocess.run(cmd, shell=True, text=True, capture_output=True)\n",
    "        print(\"STDOUT:\", result.stdout)\n",
    "        print(\"STDERR:\", result.stderr)\n",
    "        \n",
    "        if result.returncode != 0:\n",
    "            print(\"Error: Command failed to execute.\")\n",
    "            return -1\n",
    "    except Exception as e:\n",
    "        print(f\"Error: {e}\")\n",
    "        return -1\n",
    "    # os.system(cmd)\n",
    "    return 0"
   ]
  },
  {
   "cell_type": "code",
   "execution_count": 5,
   "metadata": {},
   "outputs": [
    {
     "name": "stderr",
     "output_type": "stream",
     "text": [
      "WARNING: Wireshark is installed, but cannot read manuf !\n"
     ]
    }
   ],
   "source": [
    "# 统计数据流中每个包的情况(payload长度为0表示无效包，全为无效包的流为无效流)\n",
    "\n",
    "from scapy.all import PcapReader\n",
    "\n",
    "def flow_statistic(flow_dir):\n",
    "    # 总共的流数量\n",
    "    flow_num = 0\n",
    "\n",
    "    # 有效流的数量\n",
    "    valid_num = 0\n",
    "\n",
    "    # 无效的流数量\n",
    "    invalid_num = 0\n",
    "\n",
    "    # 有效流的平均包数量\n",
    "    pkt_num_per_validflow = 0\n",
    "\n",
    "    # 无效流的平均包数量\n",
    "    pkt_num_per_invalidflow = 0\n",
    "\n",
    "    # 有效流中包长不为0的平均包数量占比\n",
    "    validpkt_rate_per_validflow = 0\n",
    "\n",
    "    # 有效流中包长不为0的平均包数量\n",
    "    validpkt_num_per_validflow = 0\n",
    "\n",
    "    # 有效流中包长不为0的payload平均字节长\n",
    "    validpkt_len_per_validflow = 0\n",
    "\n",
    "    # 遍历一个文件夹的所有文件\n",
    "    for root, dirs, files in os.walk(flow_dir):\n",
    "        for file in files:\n",
    "            flow_num += 1\n",
    "            if (flow_num+1) % 1000 == 0:\n",
    "                print(f\"Processed {flow_num+1} flows.\")\n",
    "\n",
    "            pkt_num_in_flow = 0\n",
    "            validpkt_num_in_validflow = 0\n",
    "            validpkt_len_in_validflow = 0\n",
    "\n",
    "            # 表示是正常tcp包\n",
    "            flag = 0\n",
    "\n",
    "            # 打开每一个流并统计每一包的情况\n",
    "            with PcapReader(flow_dir+'\\\\'+file) as s1:\n",
    "                for pkt in s1:\n",
    "            # s1 = PcapReader(flow_dir+'\\\\'+file)\n",
    "            # while True:\n",
    "                # pkt = s1.read_packet()\n",
    "                    if not pkt:\n",
    "                        flag = 1\n",
    "                        break\n",
    "                    if not pkt.haslayer('TCP'):\n",
    "                        flag = 1\n",
    "                        break\n",
    "                    \n",
    "                    ip_packet = pkt.payload\n",
    "                    icmp_packet = ip_packet.payload\n",
    "                    payload = icmp_packet.payload\n",
    "                    original_payload = payload.original\n",
    "                    hex_payload = original_payload.hex()\n",
    "\n",
    "                    pkt_num_in_flow += 1\n",
    "                    if len(hex_payload) == 0:\n",
    "                        continue\n",
    "                    else:\n",
    "                        validpkt_num_in_validflow += 1\n",
    "                        validpkt_len_in_validflow += len(hex_payload)//2\n",
    "            \n",
    "            # 会话流中含有不是tcp的包\n",
    "            if flag:\n",
    "                continue\n",
    "            \n",
    "            if validpkt_num_in_validflow == 0:\n",
    "                invalid_num += 1\n",
    "                pkt_num_per_invalidflow += pkt_num_in_flow\n",
    "            else:\n",
    "                valid_num += 1\n",
    "                pkt_num_per_validflow += pkt_num_in_flow\n",
    "                validpkt_num_per_validflow += validpkt_num_in_validflow\n",
    "                validpkt_rate_per_validflow += validpkt_num_in_validflow / pkt_num_in_flow\n",
    "                validpkt_len_per_validflow += validpkt_len_in_validflow\n",
    "    \n",
    "    flow_len_per_validflow = validpkt_len_per_validflow / valid_num\n",
    "    validpkt_len_per_validflow /= validpkt_num_per_validflow\n",
    "    pkt_num_per_validflow /= valid_num\n",
    "    pkt_num_per_invalidflow /= invalid_num\n",
    "    validpkt_num_per_validflow /= valid_num\n",
    "    validpkt_rate_per_validflow /= valid_num\n",
    "    # validpkt_len_per_validflow /= valid_num\n",
    "\n",
    "    print(f\"Total flow number: {flow_num}\")\n",
    "    print(f\"Valid flow number: {valid_num}\")\n",
    "    print(f\"Invalid flow number: {invalid_num}\")\n",
    "    print(f\"Average packet number per valid flow: {pkt_num_per_validflow:.2f}\")\n",
    "    print(f\"Average packet number per invalid flow: {pkt_num_per_invalidflow:.2f}\")\n",
    "    print(f\"Valid packet rate per valid flow: {validpkt_rate_per_validflow:.2%}\")\n",
    "    print(f\"Average packet number per valid flow with valid payload: {validpkt_num_per_validflow:.2f}\")\n",
    "    print(f\"Average payload length per valid packet: {validpkt_len_per_validflow:.2f} bytes\")\n",
    "    print(f\"Average payload length per valid flow: {flow_len_per_validflow:.2f} bytes\")\n",
    "\n",
    "                    "
   ]
  },
  {
   "cell_type": "code",
   "execution_count": null,
   "metadata": {},
   "outputs": [],
   "source": [
    "coin_traffic_path = '\\\\doge_tshark\\\\doge_tx_20241128.cap'\n",
    "coin_flow_path = '\\\\doge_tcpflow_new'\n",
    "\n",
    "\n",
    "# 要解析的pcap包\n",
    "pcap_file = 'D:\\\\Users\\\\ZitaGo\\\\PycharmProjects\\\\Transaction_analysis\\\\traffic_identification\\\\ET-BERT-main\\\\datasets\\\\coin_data' + coin_traffic_path\n",
    "\n",
    "# 转化为流的目录\n",
    "flow_dir = 'D:\\\\Users\\\\ZitaGo\\\\PycharmProjects\\\\Transaction_analysis\\\\traffic_identification\\\\ET-BERT-main\\\\datasets\\\\coin_data' + coin_flow_path\n"
   ]
  },
  {
   "cell_type": "code",
   "execution_count": 18,
   "metadata": {},
   "outputs": [
    {
     "name": "stdout",
     "output_type": "stream",
     "text": [
      "Running command: D:/Users/ZitaGo/Downloads/SplitCap.exe -r D:\\Users\\ZitaGo\\PycharmProjects\\Transaction_analysis\\traffic_identification\\ET-BERT-main\\datasets\\coin_data\\doge_tshark\\doge_tx_20241128.cap -s flow -o D:\\Users\\ZitaGo\\PycharmProjects\\Transaction_analysis\\traffic_identification\\ET-BERT-main\\datasets\\coin_data\\doge_burst\n",
      "STDOUT: Splitting pcap file into seperate pcap files...\n",
      "1%2%3%4%5%6%7%8%9%10%11%12%13%14%15%16%17%18%19%20%21%22%23%24%25%26%27%28%29%30%31%32%33%34%35%36%37%38%39%40%41%42%43%44%45%46%47%48%49%50%51%52%53%54%55%56%57%58%59%60%61%62%63%64%65%66%67%68%69%70%71%72%73%74%75%76%77%78%79%80%81%82%83%84%85%86%87%88%89%90%91%92%93%94%95%96%97%98%99%100%\n",
      "Please wait while closing all file handles...\n",
      "\n",
      "STDERR: \n"
     ]
    },
    {
     "data": {
      "text/plain": [
       "0"
      ]
     },
     "execution_count": 18,
     "metadata": {},
     "output_type": "execute_result"
    }
   ],
   "source": [
    "split_cap2flow(pcap_file, flow_dir)"
   ]
  },
  {
   "cell_type": "code",
   "execution_count": 110,
   "metadata": {},
   "outputs": [
    {
     "name": "stdout",
     "output_type": "stream",
     "text": [
      "Processed 1000 flows.\n",
      "Processed 2000 flows.\n",
      "Processed 3000 flows.\n",
      "Processed 4000 flows.\n",
      "Processed 5000 flows.\n",
      "Processed 6000 flows.\n",
      "Processed 7000 flows.\n",
      "Processed 8000 flows.\n",
      "Processed 9000 flows.\n",
      "Processed 10000 flows.\n",
      "Processed 11000 flows.\n",
      "Processed 12000 flows.\n",
      "Processed 13000 flows.\n",
      "Processed 14000 flows.\n",
      "Processed 15000 flows.\n",
      "Processed 16000 flows.\n",
      "Total flow number: 16762\n",
      "Valid flow number: 10491\n",
      "Invalid flow number: 6172\n",
      "Average packet number per valid flow: 48.91\n",
      "Average packet number per invalid flow: 1.97\n",
      "Valid packet rate per valid flow: 25.05%\n",
      "Average packet number per valid flow with valid payload: 26.84\n",
      "Average payload length per valid packet: 2223.96 bytes\n",
      "Average payload length per valid flow: 59684.07 bytes\n"
     ]
    }
   ],
   "source": [
    "flow_statistic(flow_dir)"
   ]
  },
  {
   "cell_type": "code",
   "execution_count": 7,
   "metadata": {},
   "outputs": [],
   "source": [
    "def main(pcap_file, flow_dir):\n",
    "    # 将数据包按照五元组分成会话流\n",
    "    print(f\"Parsing packets of {flow_dir.split('/')[-1].split('_')[0]} coin ...\")\n",
    "    split_cap2flow(pcap_file, flow_dir)\n",
    "\n",
    "    print(f\"Flow info. of {flow_dir.split('/')[-1].split('_')[0]} coin :\\n\")\n",
    "    flow_statistic(flow_dir)"
   ]
  },
  {
   "cell_type": "code",
   "execution_count": 15,
   "metadata": {},
   "outputs": [
    {
     "name": "stdout",
     "output_type": "stream",
     "text": [
      "Parsing packets of D:\\Users\\ZitaGo\\PycharmProjects\\Transaction coin ...\n",
      "Running command: D:/Users/ZitaGo/Downloads/SplitCap.exe -r D:\\Users\\ZitaGo\\PycharmProjects\\Transaction_analysis\\traffic_identification\\ET-BERT-main\\datasets\\coin_data\\doge_tshark\\doge_tx_20241128.cap -s session -o D:\\Users\\ZitaGo\\PycharmProjects\\Transaction_analysis\\traffic_identification\\ET-BERT-main\\datasets\\coin_data\\doge_tcpflow_new\n",
      "STDOUT: Splitting pcap file into seperate pcap files...\n",
      "1%2%3%4%5%6%7%8%9%10%11%12%13%14%15%16%17%18%19%20%21%22%23%24%25%26%27%28%29%30%31%32%33%34%35%36%37%38%39%40%41%42%43%44%45%46%47%48%49%50%51%52%53%54%55%56%57%58%59%60%61%62%63%64%65%66%67%68%69%70%71%72%73%74%75%76%77%78%79%80%81%82%83%84%85%86%87%88%89%90%91%92%93%94%95%96%97%98%99%100%\n",
      "Please wait while closing all file handles...\n",
      "\n",
      "STDERR: \n",
      "Flow info. of D:\\Users\\ZitaGo\\PycharmProjects\\Transaction coin :\n",
      "\n",
      "Total flow number: 43\n",
      "Valid flow number: 40\n",
      "Invalid flow number: 3\n",
      "Average packet number per valid flow: 11273.20\n",
      "Average packet number per invalid flow: 3.00\n",
      "Valid packet rate per valid flow: 57.74%\n",
      "Average packet number per valid flow with valid payload: 10687.73\n",
      "Average payload length per valid packet: 1675.53 bytes\n",
      "Average payload length per valid flow: 17907600.75 bytes\n"
     ]
    }
   ],
   "source": [
    "main(pcap_file, flow_dir)"
   ]
  },
  {
   "cell_type": "code",
   "execution_count": null,
   "metadata": {},
   "outputs": [],
   "source": []
  }
 ],
 "metadata": {
  "kernelspec": {
   "display_name": "Sunch",
   "language": "python",
   "name": "python3"
  },
  "language_info": {
   "codemirror_mode": {
    "name": "ipython",
    "version": 3
   },
   "file_extension": ".py",
   "mimetype": "text/x-python",
   "name": "python",
   "nbconvert_exporter": "python",
   "pygments_lexer": "ipython3",
   "version": "3.10.10"
  }
 },
 "nbformat": 4,
 "nbformat_minor": 2
}
